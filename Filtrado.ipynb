{
  "nbformat": 4,
  "nbformat_minor": 0,
  "metadata": {
    "colab": {
      "provenance": [],
      "mount_file_id": "14YdZHmos3gS-8Pe0NGrPmc46bMLOAysZ",
      "authorship_tag": "ABX9TyMm+Uk+5Pw9vD8vbbNNg0DI",
      "include_colab_link": true
    },
    "kernelspec": {
      "name": "python3",
      "display_name": "Python 3"
    },
    "language_info": {
      "name": "python"
    }
  },
  "cells": [
    {
      "cell_type": "markdown",
      "metadata": {
        "id": "view-in-github",
        "colab_type": "text"
      },
      "source": [
        "<a href=\"https://colab.research.google.com/github/hidel21/analisis-de-datos-de-clics-e-impresiones-de-urls/blob/main/Filtrado.ipynb\" target=\"_parent\"><img src=\"https://colab.research.google.com/assets/colab-badge.svg\" alt=\"Open In Colab\"/></a>"
      ]
    },
    {
      "cell_type": "code",
      "execution_count": null,
      "metadata": {
        "id": "ByNblgMx54Ya"
      },
      "outputs": [],
      "source": [
        "from google.colab import files\n",
        "import pandas as pd\n",
        "\n",
        "# Cargar el archivo CSV desde tu máquina local\n",
        "uploaded = files.upload()\n",
        "\n",
        "# Leer los datos del archivo CSV en un DataFrame\n",
        "filename = list(uploaded.keys())[0]  # Obtener el nombre del archivo cargado\n",
        "df = pd.read_csv(filename)\n",
        "\n",
        "# Mostrar los datos\n",
        "print(df.head())\n"
      ]
    },
    {
      "cell_type": "code",
      "source": [
        "# Leer el archivo CSV\n",
        "df = pd.read_csv(filename)\n",
        "\n",
        "# Obtener las URL con más clics\n",
        "urls_mas_clics = df.groupby('URL')['Clicks'].sum().nlargest(100)  # Obtén las 10 URLs con más clics\n",
        "\n",
        "# Obtener las URL con más impresiones\n",
        "urls_mas_impresiones = df.groupby('URL')['Impressions'].sum().nlargest(100)  # Obtén las 10 URLs con más impresiones\n",
        "\n",
        "# Obtener las primeras 10 filas de cada serie\n",
        "urls_mas_clics = urls_mas_clics.head(100)\n",
        "urls_mas_impresiones = urls_mas_impresiones.head(100)\n",
        "\n",
        "# Crear un nuevo DataFrame con las URL y sus clics e impresiones\n",
        "df_resultado = pd.DataFrame({'URL': urls_mas_clics.index, 'Clics': urls_mas_clics.values, 'Impresiones': urls_mas_impresiones.values})\n",
        "\n",
        "# Ordenar el DataFrame por clics e impresiones de forma descendente\n",
        "df_resultado = df_resultado.sort_values(by=['Clics', 'Impresiones'], ascending=False)\n",
        "\n",
        "# Guardar el DataFrame en un nuevo archivo CSV\n",
        "df_resultado.to_csv('/content/resultados.csv', index=False)\n",
        "\n",
        "# Descargar automáticamente el archivo CSV\n",
        "files.download('/content/resultados.csv')"
      ],
      "metadata": {
        "colab": {
          "base_uri": "https://localhost:8080/",
          "height": 17
        },
        "id": "Ae2asZrCEowQ",
        "outputId": "7bee3a5f-e7bd-492a-d828-2d95178a3955"
      },
      "execution_count": null,
      "outputs": [
        {
          "output_type": "display_data",
          "data": {
            "text/plain": [
              "<IPython.core.display.Javascript object>"
            ],
            "application/javascript": [
              "\n",
              "    async function download(id, filename, size) {\n",
              "      if (!google.colab.kernel.accessAllowed) {\n",
              "        return;\n",
              "      }\n",
              "      const div = document.createElement('div');\n",
              "      const label = document.createElement('label');\n",
              "      label.textContent = `Downloading \"${filename}\": `;\n",
              "      div.appendChild(label);\n",
              "      const progress = document.createElement('progress');\n",
              "      progress.max = size;\n",
              "      div.appendChild(progress);\n",
              "      document.body.appendChild(div);\n",
              "\n",
              "      const buffers = [];\n",
              "      let downloaded = 0;\n",
              "\n",
              "      const channel = await google.colab.kernel.comms.open(id);\n",
              "      // Send a message to notify the kernel that we're ready.\n",
              "      channel.send({})\n",
              "\n",
              "      for await (const message of channel.messages) {\n",
              "        // Send a message to notify the kernel that we're ready.\n",
              "        channel.send({})\n",
              "        if (message.buffers) {\n",
              "          for (const buffer of message.buffers) {\n",
              "            buffers.push(buffer);\n",
              "            downloaded += buffer.byteLength;\n",
              "            progress.value = downloaded;\n",
              "          }\n",
              "        }\n",
              "      }\n",
              "      const blob = new Blob(buffers, {type: 'application/binary'});\n",
              "      const a = document.createElement('a');\n",
              "      a.href = window.URL.createObjectURL(blob);\n",
              "      a.download = filename;\n",
              "      div.appendChild(a);\n",
              "      a.click();\n",
              "      div.remove();\n",
              "    }\n",
              "  "
            ]
          },
          "metadata": {}
        },
        {
          "output_type": "display_data",
          "data": {
            "text/plain": [
              "<IPython.core.display.Javascript object>"
            ],
            "application/javascript": [
              "download(\"download_c6b36aad-24e5-4b43-9585-5818c1f42378\", \"resultados.csv\", 10783)"
            ]
          },
          "metadata": {}
        }
      ]
    },
    {
      "cell_type": "code",
      "source": [],
      "metadata": {
        "id": "xUtlj9RPewJY"
      },
      "execution_count": null,
      "outputs": []
    }
  ]
}